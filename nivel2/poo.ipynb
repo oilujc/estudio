{
 "cells": [
  {
   "cell_type": "markdown",
   "id": "f74966c1",
   "metadata": {},
   "source": [
    "# Programación Orientada a Objetos (POO)\n",
    "La Programación Orientada a Objetos (POO) es un paradigma de programación que organiza el código en \"objetos\", estructuras que combinan datos (atributos) y comportamientos (métodos). Su objetivo es modelar entidades del mundo real, facilitando la reutilización, modularidad y mantenibilidad del código.\n",
    "\n",
    "## Paradigmas Principales de la POO\n",
    "\n",
    "### Encapsulación:\n",
    "\n",
    "Agrupa datos y métodos en una clase, ocultando detalles internos.\n",
    "\n",
    "Controla el acceso a los datos mediante modificadores como privado (ej. _variable) o protegido.\n",
    "\n",
    "### Abstracción:\n",
    "\n",
    "Expone solo lo esencial de un objeto, ocultando su complejidad interna.\n",
    "\n",
    "Define plantillas (clases abstractas) que deben ser implementadas por subclases.\n",
    "\n",
    "### Herencia:\n",
    "\n",
    "Permite que una clase (subclase) herede atributos y métodos de otra (superclase).\n",
    "\n",
    "Facilita la reutilización de código y relaciones jerárquicas.\n",
    "\n",
    "### Polimorfismo:\n",
    "\n",
    "Objetos de diferentes clases pueden usar métodos con el mismo nombre, pero comportarse de manera distinta."
   ]
  },
  {
   "cell_type": "code",
   "execution_count": 37,
   "id": "80c55b25",
   "metadata": {},
   "outputs": [],
   "source": [
    "from abc import ABC, abstractmethod\n",
    "\n",
    "class Auto(ABC):\n",
    "\n",
    "    def __init__(self, marca, modelo, motor):\n",
    "        self.marca = marca\n",
    "        self.modelo = modelo\n",
    "        self.motor = motor\n",
    "\n",
    "    @abstractmethod\n",
    "    def arrancar(self):\n",
    "        raise NotImplementedError(\"El método 'arrancar' no está implementado\")\n",
    "\n",
    "    @abstractmethod\n",
    "    def frenar(self):\n",
    "        raise NotImplementedError(\"El método 'arrancar' no está implementado\")\n",
    "\n",
    "    @abstractmethod\n",
    "    def girar(self, direccion='derecha'):\n",
    "        raise NotImplementedError(\"El método 'arrancar' no está implementado\")"
   ]
  },
  {
   "cell_type": "code",
   "execution_count": 49,
   "id": "4e96d1a7",
   "metadata": {},
   "outputs": [],
   "source": [
    "class Palio(Auto):\n",
    "    wheels = 4\n",
    "    doors = 4\n",
    "\n",
    "    def arrancar(self):\n",
    "        print(f'Arrancando... {str(self)}')\n",
    "\n",
    "    def frenar(self):\n",
    "        print('Frenando...')\n",
    "\n",
    "    def girar(self, direccion='derecha'):\n",
    "        print(f'Girando a la {direccion}...')\n",
    "\n",
    "class Porsche(Auto):\n",
    "    wheels = 4\n",
    "    doors = 2\n",
    "\n",
    "    def arrancar(self):\n",
    "        print(f'Arrancando... {str(self.marca)} - {str(self.modelo)}')\n",
    "\n",
    "    def frenar(self):\n",
    "        print(f'Frenando... {str(self.marca)} - {str(self.modelo)}')\n",
    "\n",
    "    def girar(self, direccion='derecha'):\n",
    "        print(f'Girando a la {direccion}... {str(self.marca)} - {str(self.modelo)}')\n",
    "\n",
    "\n",
    "class Camioneta(Auto):\n",
    "    wheels = 4\n",
    "    doors = 2\n",
    "\n",
    "    def arrancar(self):\n",
    "        print(f'Arrancando... {str(self)}')\n",
    "\n",
    "    def frenar(self):\n",
    "        print('Frenando...')\n",
    "\n",
    "    def girar(self, direccion='derecha'):\n",
    "        print(f'Girando a la {direccion}...')\n",
    "\n",
    "\n",
    "class SuperAuto(Auto):\n",
    "    wheels = 4\n",
    "    doors = 2\n",
    "\n",
    "    def arrancar(self):\n",
    "        print(f'Arrancando... {str(self)}')\n",
    "\n",
    "    def frenar(self):\n",
    "        print('Frenando...')\n",
    "\n",
    "    def girar(self, direccion='derecha'):\n",
    "        print(f'Girando a la {direccion}...')\n",
    "\n"
   ]
  },
  {
   "cell_type": "code",
   "execution_count": 42,
   "id": "f7414769",
   "metadata": {},
   "outputs": [
    {
     "name": "stdout",
     "output_type": "stream",
     "text": [
      "Fiat\n",
      "Arrancando... <__main__.Palio object at 0x000001449407AF70>\n",
      "None\n"
     ]
    }
   ],
   "source": [
    "car = Palio('Fiat', 'Palio', '1.4')\n",
    "\n",
    "print(car.marca)\n",
    "print(car.arrancar())"
   ]
  },
  {
   "cell_type": "code",
   "execution_count": 44,
   "id": "b5705b81",
   "metadata": {},
   "outputs": [
    {
     "name": "stdout",
     "output_type": "stream",
     "text": [
      "Arrancando... Porsche - 911\n",
      "None\n"
     ]
    }
   ],
   "source": [
    "car2 = Porsche('Porsche', '911', '3.0')\n",
    "print(car2.arrancar())"
   ]
  },
  {
   "cell_type": "code",
   "execution_count": 45,
   "id": "922f1ee4",
   "metadata": {},
   "outputs": [
    {
     "name": "stdout",
     "output_type": "stream",
     "text": [
      "Arrancando... Porsche - Cayenne\n",
      "None\n"
     ]
    }
   ],
   "source": [
    "car3 = Porsche('Porsche', 'Cayenne', '3.0')\n",
    "print(car3.arrancar())"
   ]
  },
  {
   "cell_type": "code",
   "execution_count": 20,
   "id": "b25f4c40",
   "metadata": {},
   "outputs": [
    {
     "name": "stdout",
     "output_type": "stream",
     "text": [
      "Girando a la izquierda...\n"
     ]
    }
   ],
   "source": [
    "car.girar('izquierda')"
   ]
  },
  {
   "cell_type": "code",
   "execution_count": 6,
   "id": "427bcff6",
   "metadata": {},
   "outputs": [
    {
     "data": {
      "text/plain": [
       "__main__.Auto"
      ]
     },
     "execution_count": 6,
     "metadata": {},
     "output_type": "execute_result"
    }
   ],
   "source": [
    "type(car)"
   ]
  },
  {
   "cell_type": "code",
   "execution_count": 54,
   "id": "508ec781",
   "metadata": {},
   "outputs": [
    {
     "name": "stdout",
     "output_type": "stream",
     "text": [
      "Auto: Fiat - Palio - 1.4\n",
      "Auto: Porsche - 911 - 3.0\n",
      "Auto: Porsche - Cayenne - 3.0\n"
     ]
    }
   ],
   "source": [
    "coleccion = [Palio('Fiat', 'Palio', '1.4'), Porsche('Porsche', '911', '3.0'), Porsche('Porsche', 'Cayenne', '3.0')]\n",
    "\n",
    "for auto in coleccion:\n",
    "    print(f'Auto: {auto.marca} - {auto.modelo} - {auto.motor}')"
   ]
  },
  {
   "cell_type": "code",
   "execution_count": 55,
   "id": "4ba43756",
   "metadata": {},
   "outputs": [],
   "source": [
    "coleccion.append(Camioneta('Toyota', 'Hilux', '2.8'))"
   ]
  },
  {
   "cell_type": "code",
   "execution_count": 56,
   "id": "1ca98ee9",
   "metadata": {},
   "outputs": [
    {
     "name": "stdout",
     "output_type": "stream",
     "text": [
      "Auto: Fiat - Palio - 1.4\n",
      "Auto: Porsche - 911 - 3.0\n",
      "Auto: Porsche - Cayenne - 3.0\n",
      "Auto: Toyota - Hilux - 2.8\n"
     ]
    }
   ],
   "source": [
    "for auto in coleccion:\n",
    "    print(f'Auto: {auto.marca} - {auto.modelo} - {auto.motor}')"
   ]
  },
  {
   "cell_type": "code",
   "execution_count": 60,
   "id": "2d52fee8",
   "metadata": {},
   "outputs": [
    {
     "name": "stdout",
     "output_type": "stream",
     "text": [
      "Auto: Fiat - Palio - 1.4\n",
      "Auto: Porsche - Cayenne - 3.0\n",
      "Auto: Toyota - Hilux - 2.8\n"
     ]
    }
   ],
   "source": [
    "# eliminar el porsche 911\n",
    "\n",
    "del coleccion[1]\n",
    "\n",
    "\n",
    "for auto in coleccion:\n",
    "    print(f'Auto: {auto.marca} - {auto.modelo} - {auto.motor}')"
   ]
  },
  {
   "cell_type": "code",
   "execution_count": 63,
   "id": "53c1a891",
   "metadata": {},
   "outputs": [],
   "source": [
    "coleccion.append(SuperAuto('Lamborghini', 'Aventador', '6.5'))\n",
    "coleccion.append(Porsche('Porsche', 'Cayenne', '3.1'))"
   ]
  },
  {
   "cell_type": "code",
   "execution_count": 64,
   "id": "7ac6c60f",
   "metadata": {},
   "outputs": [
    {
     "data": {
      "text/plain": [
       "[<__main__.Palio at 0x14494112ee0>,\n",
       " <__main__.Porsche at 0x14492eb3790>,\n",
       " <__main__.Camioneta at 0x144941be250>,\n",
       " <__main__.SuperAuto at 0x144942863a0>,\n",
       " <__main__.SuperAuto at 0x14494214bb0>,\n",
       " <__main__.Porsche at 0x144942a82e0>]"
      ]
     },
     "execution_count": 64,
     "metadata": {},
     "output_type": "execute_result"
    }
   ],
   "source": [
    "coleccion"
   ]
  },
  {
   "cell_type": "code",
   "execution_count": 65,
   "id": "1f191a62",
   "metadata": {},
   "outputs": [
    {
     "data": {
      "text/plain": [
       "False"
      ]
     },
     "execution_count": 65,
     "metadata": {},
     "output_type": "execute_result"
    }
   ],
   "source": [
    "coleccion[1].motor == coleccion[-1].motor"
   ]
  }
 ],
 "metadata": {
  "kernelspec": {
   "display_name": "Python 3",
   "language": "python",
   "name": "python3"
  },
  "language_info": {
   "codemirror_mode": {
    "name": "ipython",
    "version": 3
   },
   "file_extension": ".py",
   "mimetype": "text/x-python",
   "name": "python",
   "nbconvert_exporter": "python",
   "pygments_lexer": "ipython3",
   "version": "3.9.0"
  }
 },
 "nbformat": 4,
 "nbformat_minor": 5
}
