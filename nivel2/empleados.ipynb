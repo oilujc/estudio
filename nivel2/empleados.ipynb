{
 "cells": [
  {
   "cell_type": "markdown",
   "id": "b53f5532",
   "metadata": {},
   "source": [
    "Una empresa necesita un sistema para gestionar empleados, diferenciando entre empleados base y gerentes. Cada empleado tiene datos básicos (nombre, salario), pero los gerentes tienen un atributo adicional (departamento) y un método para calcular bonificaciones."
   ]
  },
  {
   "cell_type": "code",
   "execution_count": 32,
   "id": "f7c407f5",
   "metadata": {},
   "outputs": [],
   "source": [
    "from abc import ABC, abstractmethod\n",
    "\n",
    "class Empleado(ABC):\n",
    "    def __init__(self, nombre, salario):\n",
    "        self.nombre = nombre\n",
    "        self.salario = salario\n",
    "\n",
    "        if self.salario < 1000:\n",
    "            self.bonificacion = 1.05\n",
    "        else:\n",
    "            self.bonificacion = 1.10\n",
    "\n",
    "    def salario_con_bonificacion(self):\n",
    "        return self.salario * self.bonificacion\n",
    "\n",
    "    @abstractmethod\n",
    "    def calcular_salario(self):\n",
    "        raise NotImplementedError(\"Subclases deben implementar este método\")"
   ]
  },
  {
   "cell_type": "code",
   "execution_count": 33,
   "id": "b1bd85c0",
   "metadata": {},
   "outputs": [],
   "source": [
    "class EmpleadoBase(Empleado):\n",
    "    def calcular_salario(self):\n",
    "        return self.salario\n",
    "    \n",
    "class Gerente(Empleado):\n",
    "    def __init__(self, nombre, salario, departamento):\n",
    "        super().__init__(nombre, salario)\n",
    "        self.departamento = departamento\n",
    "\n",
    "    def calcular_salario(self):\n",
    "        return self.salario * 1.2\n"
   ]
  },
  {
   "cell_type": "code",
   "execution_count": 34,
   "id": "2502bf0d",
   "metadata": {},
   "outputs": [
    {
     "data": {
      "text/plain": [
       "1100.0"
      ]
     },
     "execution_count": 34,
     "metadata": {},
     "output_type": "execute_result"
    }
   ],
   "source": [
    "empleado = EmpleadoBase(\"Juan\", 1000)\n",
    "empleado.calcular_salario()  # Esto funcionará correctamente\n",
    "\n",
    "empleado.salario_con_bonificacion()"
   ]
  },
  {
   "cell_type": "code",
   "execution_count": 35,
   "id": "0537b59e",
   "metadata": {},
   "outputs": [
    {
     "data": {
      "text/plain": [
       "5500.0"
      ]
     },
     "execution_count": 35,
     "metadata": {},
     "output_type": "execute_result"
    }
   ],
   "source": [
    "gerente = Gerente(\"Ana\", 5000, \"Ventas\")\n",
    "gerente.calcular_salario()  # Esto también funcionará correctamente\n",
    "\n",
    "gerente.salario_con_bonificacion()  # Esto también funcionará correctamente"
   ]
  },
  {
   "cell_type": "code",
   "execution_count": null,
   "id": "57c2c62e",
   "metadata": {},
   "outputs": [],
   "source": []
  }
 ],
 "metadata": {
  "kernelspec": {
   "display_name": "Python 3",
   "language": "python",
   "name": "python3"
  },
  "language_info": {
   "codemirror_mode": {
    "name": "ipython",
    "version": 3
   },
   "file_extension": ".py",
   "mimetype": "text/x-python",
   "name": "python",
   "nbconvert_exporter": "python",
   "pygments_lexer": "ipython3",
   "version": "3.9.0"
  }
 },
 "nbformat": 4,
 "nbformat_minor": 5
}
