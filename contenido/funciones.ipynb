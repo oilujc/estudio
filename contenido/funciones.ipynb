{
 "cells": [
  {
   "cell_type": "markdown",
   "metadata": {},
   "source": [
    "# What is a Function in Python?\n",
    "A function in Python is a block of reusable code that performs a specific task. It helps in organizing code, avoiding repetition, and making programs more readable and manageable.\n",
    "\n",
    "Functions can take inputs, process them, and return outputs.\n",
    "\n",
    "## Types of Functions in Python\n",
    "### Built-in Functions – Predefined functions like print(), len(), sum(), etc.\n",
    "\n",
    "### User-defined Functions – Functions that we create to perform specific tasks.\n",
    "\n"
   ]
  },
  {
   "cell_type": "code",
   "execution_count": null,
   "metadata": {},
   "outputs": [
    {
     "name": "stdout",
     "output_type": "stream",
     "text": [
      "tomate: 2.5\n",
      "cebolla: 1.5\n",
      "pimiento: 3.0\n",
      "Total: 7.0\n"
     ]
    }
   ],
   "source": [
    "\n",
    "compras = {\n",
    "    'tomate': 2.5,\n",
    "    'cebolla': 1.5, #4 \n",
    "    'pimiento': 3.0,\n",
    "}\n",
    "\n",
    "# precio total de la compra \n",
    "total = 0\n",
    "for producto, precio in compras.items():\n",
    "    print(f'{producto}: {precio}')\n",
    "\n",
    "    total += precio # total = total + precio\n",
    "    \n",
    "print(f'Total: {total}')\n"
   ]
  },
  {
   "cell_type": "code",
   "execution_count": null,
   "metadata": {},
   "outputs": [
    {
     "name": "stdout",
     "output_type": "stream",
     "text": [
      "tomate: 2.5\n",
      "cebolla: 1.5\n",
      "pimiento: 3.0\n",
      "lechuga: 1.0\n",
      "Total: 8.0\n"
     ]
    }
   ],
   "source": [
    "compras['lechuga'] = 1.0 # añadir un nuevo producto\n",
    "\n",
    "total = 0\n",
    "for producto, precio in compras.items():\n",
    "    print(f'{producto}: {precio}')\n",
    "\n",
    "    total += precio # total = total + precio\n",
    "\n",
    "print(f'Total: {total}')"
   ]
  },
  {
   "cell_type": "code",
   "execution_count": 11,
   "metadata": {},
   "outputs": [],
   "source": [
    "def calcular_total(productos):\n",
    "    total = 0\n",
    "    for producto, precio in productos.items():\n",
    "        print(f'{producto}: {precio}')\n",
    "\n",
    "        total += precio # total = total + precio\n",
    "        \n",
    "    print(f'Total: {total}')\n",
    "\n",
    "    return total\n"
   ]
  },
  {
   "cell_type": "code",
   "execution_count": null,
   "metadata": {},
   "outputs": [
    {
     "name": "stdout",
     "output_type": "stream",
     "text": [
      "tomate: 2.5\n",
      "cebolla: 1.5\n",
      "pimiento: 3.0\n",
      "lechuga: 1.0\n",
      "aguacate: 2.0\n",
      "Total: 10.0\n"
     ]
    }
   ],
   "source": [
    "compras['aguacate'] = 2.0 # añadir un nuevo producto\n",
    "\n",
    "calcular_total(compras)"
   ]
  },
  {
   "cell_type": "code",
   "execution_count": 7,
   "metadata": {},
   "outputs": [
    {
     "name": "stdout",
     "output_type": "stream",
     "text": [
      "tomate: 2.5\n",
      "cebolla: 1.5\n",
      "pimiento: 3.0\n",
      "lechuga: 1.0\n",
      "aguacate: 2.0\n",
      "limon: 0.5\n",
      "Total: 10.5\n"
     ]
    }
   ],
   "source": [
    "compras['limon'] = 0.5 # añadir un nuevo producto\n",
    "\n",
    "calcular_total(compras)"
   ]
  },
  {
   "cell_type": "code",
   "execution_count": 9,
   "metadata": {},
   "outputs": [],
   "source": [
    "def saludar():\n",
    "    print('Hola, soy una funcion')"
   ]
  },
  {
   "cell_type": "code",
   "execution_count": 10,
   "metadata": {},
   "outputs": [
    {
     "name": "stdout",
     "output_type": "stream",
     "text": [
      "Hola, soy una funcion\n",
      "Hola, soy una funcion\n",
      "Hola, soy una funcion\n",
      "Hola, soy una funcion\n",
      "Hola, soy una funcion\n",
      "Hola, soy una funcion\n"
     ]
    }
   ],
   "source": [
    "saludar()\n",
    "saludar()\n",
    "saludar()\n",
    "saludar()\n",
    "saludar()\n",
    "saludar()"
   ]
  },
  {
   "cell_type": "code",
   "execution_count": 18,
   "metadata": {},
   "outputs": [
    {
     "name": "stdout",
     "output_type": "stream",
     "text": [
      "tomate: 2.5\n",
      "cebolla: 1.5\n",
      "pimiento: 3.0\n",
      "Total: 7.0\n"
     ]
    }
   ],
   "source": [
    "logs = []\n",
    "\n",
    "compras = {\n",
    "    'tomate': 2.5,\n",
    "    'cebolla': 1.5, #4 \n",
    "    'pimiento': 3.0,\n",
    "}\n",
    "\n",
    "total1 = calcular_total(compras)\n",
    "logs.append(total1)\n",
    "\n",
    "\n",
    "\n",
    "\n"
   ]
  },
  {
   "cell_type": "code",
   "execution_count": 19,
   "metadata": {},
   "outputs": [
    {
     "name": "stdout",
     "output_type": "stream",
     "text": [
      "tomate: 2.5\n",
      "cebolla: 1.5\n",
      "pimiento: 3.0\n",
      "lechuga: 1.0\n",
      "Total: 8.0\n"
     ]
    }
   ],
   "source": [
    "compras['lechuga'] = 1.0 # añadir un nuevo producto\n",
    "total2 = calcular_total(compras)\n",
    "logs.append(total2)"
   ]
  },
  {
   "cell_type": "code",
   "execution_count": 20,
   "metadata": {},
   "outputs": [
    {
     "name": "stdout",
     "output_type": "stream",
     "text": [
      "tomate: 2.5\n",
      "cebolla: 1.5\n",
      "pimiento: 3.0\n",
      "lechuga: 1.0\n",
      "aguacate: 2.0\n",
      "Total: 10.0\n"
     ]
    }
   ],
   "source": [
    "compras['aguacate'] = 2.0 # añadir un nuevo producto\n",
    "total3 = calcular_total(compras)\n",
    "logs.append(total3)"
   ]
  },
  {
   "cell_type": "code",
   "execution_count": 21,
   "metadata": {},
   "outputs": [
    {
     "data": {
      "text/plain": [
       "[7.0, 8.0, 10.0]"
      ]
     },
     "execution_count": 21,
     "metadata": {},
     "output_type": "execute_result"
    }
   ],
   "source": [
    "logs"
   ]
  }
 ],
 "metadata": {
  "kernelspec": {
   "display_name": "Python 3",
   "language": "python",
   "name": "python3"
  },
  "language_info": {
   "codemirror_mode": {
    "name": "ipython",
    "version": 3
   },
   "file_extension": ".py",
   "mimetype": "text/x-python",
   "name": "python",
   "nbconvert_exporter": "python",
   "pygments_lexer": "ipython3",
   "version": "3.9.0"
  }
 },
 "nbformat": 4,
 "nbformat_minor": 2
}
