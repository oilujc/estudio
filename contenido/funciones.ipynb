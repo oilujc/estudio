{
 "cells": [
  {
   "cell_type": "markdown",
   "metadata": {},
   "source": [
    "# What is a Function in Python?\n",
    "A function in Python is a block of reusable code that performs a specific task. It helps in organizing code, avoiding repetition, and making programs more readable and manageable.\n",
    "\n",
    "Functions can take inputs, process them, and return outputs.\n",
    "\n",
    "## Types of Functions in Python\n",
    "### Built-in Functions – Predefined functions like print(), len(), sum(), etc.\n",
    "\n",
    "### User-defined Functions – Functions that we create to perform specific tasks.\n",
    "\n"
   ]
  },
  {
   "cell_type": "code",
   "execution_count": null,
   "metadata": {},
   "outputs": [
    {
     "name": "stdout",
     "output_type": "stream",
     "text": [
      "tomate: 2.5\n",
      "cebolla: 1.5\n",
      "pimiento: 3.0\n",
      "Total: 7.0\n"
     ]
    }
   ],
   "source": [
    "\n",
    "compras = {\n",
    "    'tomate': 2.5,\n",
    "    'cebolla': 1.5, #4 \n",
    "    'pimiento': 3.0,\n",
    "}\n",
    "\n",
    "# precio total de la compra \n",
    "total = 0\n",
    "for producto, precio in compras.items():\n",
    "    print(f'{producto}: {precio}')\n",
    "\n",
    "    total += precio # total = total + precio\n",
    "    \n",
    "print(f'Total: {total}')\n"
   ]
  },
  {
   "cell_type": "code",
   "execution_count": null,
   "metadata": {},
   "outputs": [
    {
     "name": "stdout",
     "output_type": "stream",
     "text": [
      "tomate: 2.5\n",
      "cebolla: 1.5\n",
      "pimiento: 3.0\n",
      "lechuga: 1.0\n",
      "Total: 8.0\n"
     ]
    }
   ],
   "source": [
    "compras['lechuga'] = 1.0 # añadir un nuevo producto\n",
    "\n",
    "total = 0\n",
    "for producto, precio in compras.items():\n",
    "    print(f'{producto}: {precio}')\n",
    "\n",
    "    total += precio # total = total + precio\n",
    "\n",
    "print(f'Total: {total}')"
   ]
  },
  {
   "cell_type": "code",
   "execution_count": 11,
   "metadata": {},
   "outputs": [],
   "source": [
    "def calcular_total(productos):\n",
    "    total = 0\n",
    "    for producto, precio in productos.items():\n",
    "        print(f'{producto}: {precio}')\n",
    "\n",
    "        total += precio # total = total + precio\n",
    "        \n",
    "    print(f'Total: {total}')\n",
    "\n",
    "    return total\n"
   ]
  },
  {
   "cell_type": "code",
   "execution_count": null,
   "metadata": {},
   "outputs": [
    {
     "name": "stdout",
     "output_type": "stream",
     "text": [
      "tomate: 2.5\n",
      "cebolla: 1.5\n",
      "pimiento: 3.0\n",
      "lechuga: 1.0\n",
      "aguacate: 2.0\n",
      "Total: 10.0\n"
     ]
    }
   ],
   "source": [
    "compras['aguacate'] = 2.0 # añadir un nuevo producto\n",
    "\n",
    "calcular_total(compras)"
   ]
  },
  {
   "cell_type": "code",
   "execution_count": 7,
   "metadata": {},
   "outputs": [
    {
     "name": "stdout",
     "output_type": "stream",
     "text": [
      "tomate: 2.5\n",
      "cebolla: 1.5\n",
      "pimiento: 3.0\n",
      "lechuga: 1.0\n",
      "aguacate: 2.0\n",
      "limon: 0.5\n",
      "Total: 10.5\n"
     ]
    }
   ],
   "source": [
    "compras['limon'] = 0.5 # añadir un nuevo producto\n",
    "\n",
    "calcular_total(compras)"
   ]
  },
  {
   "cell_type": "code",
   "execution_count": 9,
   "metadata": {},
   "outputs": [],
   "source": [
    "def saludar():\n",
    "    print('Hola, soy una funcion')"
   ]
  },
  {
   "cell_type": "code",
   "execution_count": 10,
   "metadata": {},
   "outputs": [
    {
     "name": "stdout",
     "output_type": "stream",
     "text": [
      "Hola, soy una funcion\n",
      "Hola, soy una funcion\n",
      "Hola, soy una funcion\n",
      "Hola, soy una funcion\n",
      "Hola, soy una funcion\n",
      "Hola, soy una funcion\n"
     ]
    }
   ],
   "source": [
    "saludar()\n",
    "saludar()\n",
    "saludar()\n",
    "saludar()\n",
    "saludar()\n",
    "saludar()"
   ]
  },
  {
   "cell_type": "code",
   "execution_count": 18,
   "metadata": {},
   "outputs": [
    {
     "name": "stdout",
     "output_type": "stream",
     "text": [
      "tomate: 2.5\n",
      "cebolla: 1.5\n",
      "pimiento: 3.0\n",
      "Total: 7.0\n"
     ]
    }
   ],
   "source": [
    "logs = []\n",
    "\n",
    "compras = {\n",
    "    'tomate': 2.5,\n",
    "    'cebolla': 1.5, #4 \n",
    "    'pimiento': 3.0,\n",
    "}\n",
    "\n",
    "total1 = calcular_total(compras)\n",
    "logs.append(total1)\n",
    "\n",
    "\n",
    "\n",
    "\n"
   ]
  },
  {
   "cell_type": "code",
   "execution_count": 19,
   "metadata": {},
   "outputs": [
    {
     "name": "stdout",
     "output_type": "stream",
     "text": [
      "tomate: 2.5\n",
      "cebolla: 1.5\n",
      "pimiento: 3.0\n",
      "lechuga: 1.0\n",
      "Total: 8.0\n"
     ]
    }
   ],
   "source": [
    "compras['lechuga'] = 1.0 # añadir un nuevo producto\n",
    "total2 = calcular_total(compras)\n",
    "logs.append(total2)"
   ]
  },
  {
   "cell_type": "code",
   "execution_count": 20,
   "metadata": {},
   "outputs": [
    {
     "name": "stdout",
     "output_type": "stream",
     "text": [
      "tomate: 2.5\n",
      "cebolla: 1.5\n",
      "pimiento: 3.0\n",
      "lechuga: 1.0\n",
      "aguacate: 2.0\n",
      "Total: 10.0\n"
     ]
    }
   ],
   "source": [
    "compras['aguacate'] = 2.0 # añadir un nuevo producto\n",
    "total3 = calcular_total(compras)\n",
    "logs.append(total3)"
   ]
  },
  {
   "cell_type": "code",
   "execution_count": 21,
   "metadata": {},
   "outputs": [
    {
     "data": {
      "text/plain": [
       "[7.0, 8.0, 10.0]"
      ]
     },
     "execution_count": 21,
     "metadata": {},
     "output_type": "execute_result"
    }
   ],
   "source": [
    "logs"
   ]
  },
  {
   "cell_type": "code",
   "execution_count": 12,
   "metadata": {},
   "outputs": [
    {
     "name": "stdout",
     "output_type": "stream",
     "text": [
      "cebolla-> 2.5: 2.9\n",
      "tomate-> 2: 2.32\n",
      "aguacate-> 3: 3.4799999999999995\n"
     ]
    }
   ],
   "source": [
    "def calcular_precio_iva(precio: float) -> float:\n",
    "    return precio * 1.16\n",
    "\n",
    "\n",
    "compras = {\n",
    "    'cebolla': 2.5,\n",
    "    'tomate': 2,\n",
    "    'aguacate': 3,\n",
    "}\n",
    "\n",
    "totales = []\n",
    "for producto, precio in compras.items():\n",
    "    precio_con_iva = calcular_precio_iva(precio)\n",
    "    print(f'{producto}-> {precio}: {precio_con_iva}')\n",
    "\n",
    "    totales.append({\n",
    "        'producto': producto,\n",
    "        'precio': precio,\n",
    "        'precio_con_iva': precio_con_iva,\n",
    "    })\n",
    "\n",
    "    # total += precio\n",
    "    # print(f'total: {total}')\n",
    "\n",
    "    # def calcular_precio_con_iva(precio_sin_iva, porcentaje_iva=0.16):\n",
    "    #     iva = precio_sin_iva * porcentaje_iva\n",
    "    #     precio_con_iva = precio_sin_iva + iva\n",
    "    #     return{'precio_sin_iva': precio_sin_iva,\n",
    "    #            'porcentaje_iva': porcentaje_iva,\n",
    "    #            'monto_iva': iva,\n",
    "    #            'precio_con_iva': precio_con_iva\n",
    "    #     }\n",
    "\n",
    "# precio_producto = total\n",
    "# iva = 0.16\n",
    "# precio_final = precio_producto + iva\n",
    "\n",
    "# print(f'El precio final con iva es: {precio_final}')"
   ]
  },
  {
   "cell_type": "code",
   "execution_count": 14,
   "metadata": {},
   "outputs": [
    {
     "name": "stdout",
     "output_type": "stream",
     "text": [
      "[{'producto': 'cebolla', 'precio': 2.5, 'precio_con_iva': 2.9}, {'producto': 'tomate', 'precio': 2, 'precio_con_iva': 2.32}, {'producto': 'aguacate', 'precio': 3, 'precio_con_iva': 3.4799999999999995}]\n",
      "Total precio: 7.5\n",
      "Total precio con iva: 8.7\n"
     ]
    }
   ],
   "source": [
    "print(totales)\n",
    "\n",
    "total_precio = sum([producto['precio'] for producto in totales])\n",
    "total_precio_con_iva = sum([producto['precio_con_iva'] for producto in totales])\n",
    "\n",
    "print(f'Total precio: {round(total_precio, 2)}')\n",
    "print(f'Total precio con iva: {round(total_precio_con_iva, 2)}')\n"
   ]
  }
 ],
 "metadata": {
  "kernelspec": {
   "display_name": "Python 3",
   "language": "python",
   "name": "python3"
  },
  "language_info": {
   "codemirror_mode": {
    "name": "ipython",
    "version": 3
   },
   "file_extension": ".py",
   "mimetype": "text/x-python",
   "name": "python",
   "nbconvert_exporter": "python",
   "pygments_lexer": "ipython3",
   "version": "3.9.0"
  }
 },
 "nbformat": 4,
 "nbformat_minor": 2
}
